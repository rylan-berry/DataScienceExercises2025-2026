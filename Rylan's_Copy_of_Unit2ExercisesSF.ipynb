{
  "nbformat": 4,
  "nbformat_minor": 0,
  "metadata": {
    "colab": {
      "provenance": [],
      "include_colab_link": true
    },
    "kernelspec": {
      "name": "python3",
      "display_name": "Python 3"
    },
    "language_info": {
      "name": "python"
    }
  },
  "cells": [
    {
      "cell_type": "markdown",
      "metadata": {
        "id": "view-in-github",
        "colab_type": "text"
      },
      "source": [
        "<a href=\"https://colab.research.google.com/github/rylan-berry/DataScienceExercises2025-2026/blob/main/Rylan's_Copy_of_Unit2ExercisesSF.ipynb\" target=\"_parent\"><img src=\"https://colab.research.google.com/assets/colab-badge.svg\" alt=\"Open In Colab\"/></a>"
      ]
    },
    {
      "cell_type": "markdown",
      "source": [
        "#Unit 2 Exercises: Bayesian Building Blocks\n",
        "\n",
        "This first set of exercises focuses on conceptual understanding of the three parts of bayesian statistics we'll manipulate the most: the prior, likelihood, and posterior.\n",
        "\n",
        "These vocabulary words will help us categorize and explain all statistical models, even models that don't fit inside the standard bayesian framework."
      ],
      "metadata": {
        "id": "0GANUQSIhV2t"
      }
    },
    {
      "cell_type": "markdown",
      "source": [
        "**Task1**:\n",
        "\n",
        "Why do we make guesses? In other words, what is the benefit of trying to predict something we are uncertain about?"
      ],
      "metadata": {
        "id": "4HnMLojUPtOR"
      }
    },
    {
      "cell_type": "markdown",
      "source": [
        "*If we can predict something then we can react to it, for example, predicting if a huricane will hit Texas or Louisiana is something that could help to save lives.*"
      ],
      "metadata": {
        "id": "mDaA1AeLU5dU"
      }
    },
    {
      "cell_type": "markdown",
      "source": [
        "**Task2**:\n",
        "\n",
        "Is is it possible to make a guess/prediction without making an assumption?\n",
        "\n",
        "If yes, then give an example of such a guess, and state whenever that guess would be useful or not.\n",
        "\n",
        "If no, then briefly justify why we need assumptions to make predictions."
      ],
      "metadata": {
        "id": "fMU4F4ZGQqb9"
      }
    },
    {
      "cell_type": "markdown",
      "source": [
        "*I think assumtions are very much needed to make a prediction. Especially with today's notes, it became clear we needed to make an assumtion that the likelyhood of previous data will be the same for our prediction.*"
      ],
      "metadata": {
        "id": "JuBQVSQ0U-cD"
      }
    },
    {
      "cell_type": "markdown",
      "source": [
        "**Task3**:\n",
        "\n",
        "Should we use all the available information we have to make a guess/prediction? Justify your answer."
      ],
      "metadata": {
        "id": "8iIogaaJQEfl"
      }
    },
    {
      "cell_type": "markdown",
      "source": [
        "*No, and even in some cases it could be detrimental. One of my favorite examples was this AI company was trying to make a breast cancer prediction algorithm from xrays, and AI being cheecky picked up on something in the files that identifies the different hospitals, and instead of analysing the images, it figured out the poorer hospitals would be more likely to find cancer patients since the wouldn't have detected it sooner. So the AI became biased towards those poorer hospitals (thankfully it was caught before being shiped and was fixed). But I say this to point out that even the smallest information could mess up a prediction.*"
      ],
      "metadata": {
        "id": "v8zljy-5QXSd"
      }
    },
    {
      "cell_type": "markdown",
      "source": [
        "**Task4**:\n",
        "\n",
        "What is a prior? How are priors related to\n",
        "- context?\n",
        "- assumptions?\n",
        "- predictions?"
      ],
      "metadata": {
        "id": "TYwtd8lPRFbj"
      }
    },
    {
      "cell_type": "markdown",
      "source": [
        "*Priors act as context, their use in the predictions must come from an assumption that prior information will inform what future data will look like.*"
      ],
      "metadata": {
        "id": "d6vRRh3wVE5v"
      }
    },
    {
      "cell_type": "markdown",
      "source": [
        "**Task5**:\n",
        "\n",
        "What is a likelihood? How are likelihoods related to:\n",
        "\n",
        "- context?\n",
        "- assumptions?\n",
        "- predictions?"
      ],
      "metadata": {
        "id": "v6NnzoV_RWo6"
      }
    },
    {
      "cell_type": "markdown",
      "source": [
        "*Likelyhood is how likely something is to occur. This usually is made from prior context and is assumed to be similar to future data.*"
      ],
      "metadata": {
        "id": "VK5s3vZpVGLc"
      }
    },
    {
      "cell_type": "markdown",
      "source": [
        "**Task6**:\n",
        "\n",
        "What is a posterior? How are posteriors related to:\n",
        "\n",
        "- context?\n",
        "- assumptions?\n",
        "- predictions?"
      ],
      "metadata": {
        "id": "eYSYtG_2Rowf"
      }
    },
    {
      "cell_type": "markdown",
      "source": [
        "*Posterior is pretty much the prediction, this is formed using our context and assumptions.*"
      ],
      "metadata": {
        "id": "T04x1VteVHH1"
      }
    },
    {
      "cell_type": "markdown",
      "source": [
        "**Task7**:\n",
        "\n",
        "Why would anyone want to define a prior and a likelihood in order to make a prediction? In other words, what's the point of using a likelihood and a prior to form a posterior?"
      ],
      "metadata": {
        "id": "CMAm4LqBXYxG"
      }
    },
    {
      "cell_type": "markdown",
      "source": [
        "*It's important to use likelyhood and priors because previous data can inform predictions in the future.*"
      ],
      "metadata": {
        "id": "rag62h9DVIDN"
      }
    },
    {
      "cell_type": "markdown",
      "source": [
        "## Bayes' Rule Math\n",
        "\n",
        "The following exrcises will be graded for completion, with no accuracy component. That said, correct answers below will replace mistakes in tasks 1-7.\n",
        "\n"
      ],
      "metadata": {
        "id": "BNrO2k34SGoF"
      }
    },
    {
      "cell_type": "markdown",
      "source": [
        "### Mathematical Framing\n",
        "\n",
        "In this series of exercises, we'll calculate a probability using the full version of Bayes' Rule.\n",
        "\n",
        "The version seen in the notes, $p(θ|y) ∝ p(y|θ)p(θ)$, ignores the normalizing constant found in the full equation: $p(θ|y) = \\frac{p(y|θ)p(θ)}{p(y)}$.\n",
        "\n",
        "As stated in the notes, in practical applications we don't need to worry too much about $p(y)$, AKA the marginal likelihood, AKA the prior predictive density, AKA the normalizing constant. And when we do, we'll approximate like we do everything else.\n",
        "\n",
        "The following exercises are closer to theoretical abstraction, rather than practicality.\n",
        "\n",
        "So why do them?\n",
        "\n",
        "These exercises will (hopefully) help you gain additional intuition for probability, and how it behaves.\n",
        "\n",
        "As you work through the exercises, consider $p(y)$, the  prior predictive density, and why using it to divide $p(y|θ)p(θ)$ gurantees that we get a probability.\n",
        "\n",
        "Additonaly, wonder about:\n",
        "- the likelihood $p(y|θ)$\n",
        "- the prior $p(θ)$,\n",
        "- why multiplying the likelihood and piror *almost* gives us the posterior $p(θ|y)$."
      ],
      "metadata": {
        "id": "w7KMRJa_TmdF"
      }
    },
    {
      "cell_type": "markdown",
      "source": [
        "###Problem Setting\n",
        "\n",
        "Imagine we have a bag of red and white marbles, identical in every other way. Each individual marble is either entirely white or entirely red.\n",
        "\n",
        "Let's assume there are 4 total marbles, that we can't see inside the bag, and when we grab a ball from the bag, we replace it and shake the bag to scramble the balls.\n",
        "\n",
        "Additionally:\n",
        "\n",
        "- we draw three balls in this order: red-white-red. Call these the data, $y$. Remember, we replaced the ball and shook the bag between each draw.\n",
        "- we are interested in finding the true proportion of red balls in the bag, called $θ$"
      ],
      "metadata": {
        "id": "ab7E9RIuj2OX"
      }
    },
    {
      "cell_type": "markdown",
      "source": [
        "**Task8**:\n",
        "\n",
        "Write out all the possible color compositions of the marbles in the bag, before we observed our data $y$ (which are the marbles drawn in the order of red-white-red).\n",
        "\n",
        "Let each of these possible color compositions be a possible $θ$, or true proportion of red marbles."
      ],
      "metadata": {
        "id": "AmHTGWQQHuAD"
      }
    },
    {
      "cell_type": "markdown",
      "source": [
        "*w-w-w-w*\n",
        "\n",
        "*w-w-w-r*\n",
        "\n",
        "*w-w-r-r*\n",
        "\n",
        "*w-r-r-r*\n",
        "\n",
        "*r-r-r-r*"
      ],
      "metadata": {
        "id": "EkPylHwCVK72"
      }
    },
    {
      "cell_type": "markdown",
      "source": [
        "**Task9**:\n",
        "\n",
        "Which color compositions are possible after seeing the data $y$?"
      ],
      "metadata": {
        "id": "-TELvcnVH8N2"
      }
    },
    {
      "cell_type": "markdown",
      "source": [
        "*w-w-w-r*\n",
        "\n",
        "*w-w-r-r*\n",
        "\n",
        "*w-r-r-r*"
      ],
      "metadata": {
        "id": "7q6nUOdNMN9Z"
      }
    },
    {
      "cell_type": "markdown",
      "source": [
        "**Task10**:\n",
        "\n",
        "How many ways can you select red-white-red, assuming that there are 2 red marbles and 2 white marbles?"
      ],
      "metadata": {
        "id": "vIjecZm7OVcy"
      }
    },
    {
      "cell_type": "markdown",
      "source": [
        "*3:*\n",
        "\n",
        "1. Red-red-white\n",
        "2. Red-white-red\n",
        "3. White-red-red\n",
        "\n"
      ],
      "metadata": {
        "id": "p2vDjMVIXtWR"
      }
    },
    {
      "cell_type": "markdown",
      "source": [
        "**Task11**:\n",
        "\n",
        "How many different ways can you select three balls so that order matters, given that there are 2 red marbles and 2 white marbles?"
      ],
      "metadata": {
        "id": "Bs7tx0pXhUZy"
      }
    },
    {
      "cell_type": "markdown",
      "source": [
        "*One*"
      ],
      "metadata": {
        "id": "69ScN4NYh6ks"
      }
    },
    {
      "cell_type": "markdown",
      "source": [
        "**Task12**:\n",
        "\n",
        "What's the probablity you select red-white-red, given that there are 2 red marbles and 2 white marbles?\n",
        "\n",
        "Stated differently,\n",
        "\n",
        "Find the likelihood $p(y|θ)$, where $θ=RRWW$"
      ],
      "metadata": {
        "id": "k87Z69qUg9KV"
      }
    },
    {
      "cell_type": "markdown",
      "source": [
        "*1/8 = 12.5%*"
      ],
      "metadata": {
        "id": "v5bdqu1nri3Y"
      }
    },
    {
      "cell_type": "markdown",
      "source": [
        "**Task13**\n",
        "\n",
        "If--before seeing the data--all color compostions are equally likely,\n",
        "\n",
        "then what is $p(\\theta)$, if $\\theta = RRWW$?"
      ],
      "metadata": {
        "id": "_rZSSoR8NbEY"
      }
    },
    {
      "cell_type": "markdown",
      "source": [
        "*20% #chance of RRWW being whats in the bag*"
      ],
      "metadata": {
        "id": "N3PVjOk5wDZT"
      }
    },
    {
      "cell_type": "markdown",
      "source": [
        "**Task14**:\n",
        "\n",
        "Find:\n",
        "\n",
        "- $p(y|WWWW)$\n",
        "- $p(y|RWWW)$\n",
        "- $p(y|RRWW)$\n",
        "- $p(y|RRRW)$\n",
        "- $p(y|RRRR)$"
      ],
      "metadata": {
        "id": "j6e9WP49sZJh"
      }
    },
    {
      "cell_type": "markdown",
      "source": [
        "*Ill do it in the same order*\n",
        "\n",
        "\n",
        "* 0%\n",
        "* 3/64 = 4.6875%\n",
        "* 1/8 = 12.5%\n",
        "* 9/64 = 14.0625%\n",
        "* 0%\n",
        "\n"
      ],
      "metadata": {
        "id": "NbSC4dj_tf4Y"
      }
    },
    {
      "cell_type": "markdown",
      "source": [
        "**Task15**\n",
        "\n",
        "Assume that each color compostions is equally likely before seeing the data.\n",
        "\n",
        "Find:\n",
        "\n",
        "- $p(y|WWWW)p(WWWW)$\n",
        "- $p(y|RWWW)p(RWWW)$\n",
        "- $p(y|RRWW)p(RRWW)$\n",
        "- $p(y|RRRW)p(RRRW)$\n",
        "- $p(y|RRRR)p(RRRR)$\n"
      ],
      "metadata": {
        "id": "W6f3Ll2oWmMJ"
      }
    },
    {
      "cell_type": "markdown",
      "source": [
        "*In order again*\n",
        "\n",
        "* 0%\n",
        "* 0.9375%\n",
        "* 2.5%\n",
        "* 2.8125%\n",
        "* 0%\n",
        "\n"
      ],
      "metadata": {
        "id": "t_TZsERtXMQu"
      }
    },
    {
      "cell_type": "markdown",
      "source": [
        "**Task16**:\n",
        "\n",
        "Find the probablity of getting red-white-red, $p(y)$, given each possible color combination is equally likely."
      ],
      "metadata": {
        "id": "qxSVk_Sjv8Gk"
      }
    },
    {
      "cell_type": "markdown",
      "source": [
        "*6.25%*"
      ],
      "metadata": {
        "id": "641kAEFkOK8b"
      }
    },
    {
      "cell_type": "markdown",
      "source": [
        "**Task17**:\n",
        "\n",
        "After observing a draw of red-white-red, find the probability that there are two red marbles and two white marbles in the bag. Assume that all color compositions were equally likely before the draw.\n",
        "\n",
        "In other words, find $p(θ|y)$, where $θ=RRWW$."
      ],
      "metadata": {
        "id": "CYoWtEwxyNB-"
      }
    },
    {
      "cell_type": "markdown",
      "source": [
        "*40%*"
      ],
      "metadata": {
        "id": "WxX-o3Uuy9eR"
      }
    },
    {
      "cell_type": "markdown",
      "source": [
        "**Task18**:\n",
        "\n",
        "Story time: The marble factory produces bags of four marbles. They want to make red marbles rare, so that people will get excited about them.  Therefore, for each 1 bag containing four red, they made 2 that contain three red, 3 that contain two red, 4 that contain one red, and 5 that contain zero red.\n",
        "\n",
        "With this new prior information, find $p(θ|y)$, where $θ=RRWW$.\n",
        "\n",
        "**NOTE**: You MUST calculate  a new marginal likelihood $p(y)$ with the new prior information."
      ],
      "metadata": {
        "id": "VgMdbaKW1o39"
      }
    },
    {
      "cell_type": "code",
      "source": [],
      "metadata": {
        "id": "PHAgfTFRS4Yp"
      },
      "execution_count": null,
      "outputs": []
    },
    {
      "cell_type": "markdown",
      "source": [
        "**Calc p(θ)**\n",
        "* 5/15  = 1/3     = p(WWWW)   = 33.333%\n",
        "* 4/15  = p(RWWW) = 26.667%\n",
        "* 3/15  = 1/5     = p(RRWW)   = 20%\n",
        "* 2/15  = p(RRRW) = 13.333%\n",
        "* 1/15  = p(RRRR) = 6.667%\n",
        "\n",
        "**Calc p(y|θ) * p(θ)**\n",
        "* 0 * 1/3 = **0%**\n",
        "* 3/64 * 4/15 = 12/960 = 2/160 = 1/80 = **1.25%**\n",
        "* 1/8 * 1/5 = 1/40 = 4/160 = **2.5%**\n",
        "* 9/64 * 2/15 = 18/960 = 3/160 = **1.875%**\n",
        "* 0 * 1/15 = **0%**\n",
        "\n",
        "**Sum p(y|θ) * p(θ) to get p(y)**\n",
        "* 0 + 2/160 + 4/160 + 3/160 + 0 = 9/160 = **5.625%**\n",
        "\n",
        "**p(y|θ) * p(θ) / p(y) = p(θ|y)**\n",
        "* 1/40 / 9/160 = 4/9 = **44.44%**\n",
        "\n"
      ],
      "metadata": {
        "id": "UMMrUAIs3Dsi"
      }
    },
    {
      "cell_type": "markdown",
      "source": [
        "**Task19**:\n",
        "\n",
        "Write down similarities and differences between this marble example, and the VIctor Wembanyama FT example."
      ],
      "metadata": {
        "id": "ABn_s24K4K0H"
      }
    },
    {
      "cell_type": "markdown",
      "source": [
        "*In both there are only two options: red or white; scores or doesn't. But in the FT lab we did it all through code where as this was more by hand (and calculator)*"
      ],
      "metadata": {
        "id": "CAmT3Bd34fhc"
      }
    }
  ]
}